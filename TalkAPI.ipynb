{
  "nbformat": 4,
  "nbformat_minor": 0,
  "metadata": {
    "colab": {
      "name": "TalkAPI",
      "provenance": [],
      "authorship_tag": "ABX9TyMwGha98Z93mBX0uOGxlyYh",
      "include_colab_link": true
    },
    "kernelspec": {
      "name": "python3",
      "display_name": "Python 3"
    }
  },
  "cells": [
    {
      "cell_type": "markdown",
      "metadata": {
        "id": "view-in-github",
        "colab_type": "text"
      },
      "source": [
        "<a href=\"https://colab.research.google.com/github/akari1217/camellia03/blob/master/TalkAPI.ipynb\" target=\"_parent\"><img src=\"https://colab.research.google.com/assets/colab-badge.svg\" alt=\"Open In Colab\"/></a>"
      ]
    },
    {
      "cell_type": "code",
      "metadata": {
        "id": "h8H6eapNvjNK",
        "colab_type": "code",
        "colab": {
          "base_uri": "https://localhost:8080/",
          "height": 51
        },
        "outputId": "c88f2e02-4028-4085-dd48-f7e9d17656a4"
      },
      "source": [
        "!pip3 install pya3rt"
      ],
      "execution_count": 12,
      "outputs": [
        {
          "output_type": "stream",
          "text": [
            "Requirement already satisfied: pya3rt in /usr/local/lib/python3.6/dist-packages (1.1)\n",
            "Requirement already satisfied: requests==2.12.4 in /usr/local/lib/python3.6/dist-packages (from pya3rt) (2.12.4)\n"
          ],
          "name": "stdout"
        }
      ]
    },
    {
      "cell_type": "code",
      "metadata": {
        "id": "Sp59S-zwwEvq",
        "colab_type": "code",
        "colab": {
          "base_uri": "https://localhost:8080/",
          "height": 34
        },
        "outputId": "add17fea-b899-43e6-e2f0-80e0ff4861f6"
      },
      "source": [
        "import pya3rt\n",
        "def talk_ai(word):\n",
        "    apikey=\"DZZ0i2cdhcLnSQ8HuKVIlIv6zDjpp7EC\"\n",
        "    client=pya3rt.TalkClient(apikey)\n",
        "    reply_message=client.talk(word)\n",
        "    print(reply_message[\"results\"][0][\"reply\"])\n",
        "\n",
        "talk_ai(\"好きな食べ物は？\")    \n",
        "\n"
      ],
      "execution_count": 18,
      "outputs": [
        {
          "output_type": "stream",
          "text": [
            "なんでも好きですよ\n"
          ],
          "name": "stdout"
        }
      ]
    }
  ]
}